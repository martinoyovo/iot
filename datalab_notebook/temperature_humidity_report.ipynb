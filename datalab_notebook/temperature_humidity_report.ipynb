{
 "cells": [
  {
   "cell_type": "markdown",
   "metadata": {},
   "source": [
    "# Connect to Google BigQuery"
   ]
  },
  {
   "cell_type": "code",
   "execution_count": 8,
   "metadata": {},
   "outputs": [],
   "source": [
    "from google.cloud import bigquery\n",
    "\n",
    "# Set the parameters below\n",
    "project = \"dit-m1ia\"\n",
    "location = \"eu\"\n",
    "\n",
    "dataset_name = \"dataset_pipeline_ousmane\"\n",
    "raw_table_name = \"temperature_humidite\"\n",
    "avg_table_name = \"temperature_humidite_avg\"\n",
    "\n",
    "# Create client connection\n",
    "client = bigquery.Client(project=project)\n",
    "# Fetch the table objects\n",
    "raw_table_ref = client.dataset(dataset_name).table(raw_table_name)\n",
    "avg_table_ref = client.dataset(dataset_name).table(avg_table_name)\n",
    "\n",
    "raw_table = client.get_table(raw_table_ref)\n",
    "avg_table = client.get_table(avg_table_ref)\n",
    "tables = [raw_table, avg_table]"
   ]
  },
  {
   "cell_type": "markdown",
   "metadata": {},
   "source": [
    "# View table schema"
   ]
  },
  {
   "cell_type": "code",
   "execution_count": 9,
   "metadata": {},
   "outputs": [
    {
     "name": "stdout",
     "output_type": "stream",
     "text": [
      "\n",
      "Table: temperature_humidite   516 rows\n"
     ]
    },
    {
     "data": {
      "text/html": [
       "<table>\n",
       "<tbody>\n",
       "<tr><td>timestamp  </td><td>TIMESTAMP</td></tr>\n",
       "<tr><td>clientid   </td><td>STRING   </td></tr>\n",
       "<tr><td>temperature</td><td>FLOAT    </td></tr>\n",
       "<tr><td>humidity   </td><td>FLOAT    </td></tr>\n",
       "</tbody>\n",
       "</table>"
      ],
      "text/plain": [
       "<IPython.core.display.HTML object>"
      ]
     },
     "metadata": {},
     "output_type": "display_data"
    },
    {
     "name": "stdout",
     "output_type": "stream",
     "text": [
      "\n",
      "Table: temperature_humidite_avg   278 rows\n"
     ]
    },
    {
     "data": {
      "text/html": [
       "<table>\n",
       "<tbody>\n",
       "<tr><td>timestamp  </td><td>TIMESTAMP</td></tr>\n",
       "<tr><td>clientid   </td><td>STRING   </td></tr>\n",
       "<tr><td>temperature</td><td>FLOAT    </td></tr>\n",
       "<tr><td>humidity   </td><td>FLOAT    </td></tr>\n",
       "</tbody>\n",
       "</table>"
      ],
      "text/plain": [
       "<IPython.core.display.HTML object>"
      ]
     },
     "metadata": {},
     "output_type": "display_data"
    }
   ],
   "source": [
    "from IPython.display import HTML, display\n",
    "import tabulate\n",
    "\n",
    "# Display the table schemas as tables\n",
    "for table in tables:\n",
    "    print(\"\\nTable: {:15}   {} rows\".format(table.table_id, table.num_rows))\n",
    "    tab = []\n",
    "    for schema in table.schema:\n",
    "        row = [schema.name, schema.field_type]\n",
    "        tab.append(row)\n",
    "        \n",
    "    display(HTML(tabulate.tabulate(tab, tablefmt='html')))"
   ]
  },
  {
   "cell_type": "markdown",
   "metadata": {},
   "source": [
    "# Query most recent rows"
   ]
  },
  {
   "cell_type": "code",
   "execution_count": 11,
   "metadata": {},
   "outputs": [
    {
     "data": {
      "text/html": [
       "<table>\n",
       "<tbody>\n",
       "<tr><td>2022-04-14 02:04:38+00:00</td><td style=\"text-align: right;\">25     </td><td style=\"text-align: right;\">60     </td></tr>\n",
       "<tr><td>2022-04-14 02:03:36+00:00</td><td style=\"text-align: right;\">26.6667</td><td style=\"text-align: right;\">56.6667</td></tr>\n",
       "<tr><td>2022-04-14 02:02:36+00:00</td><td style=\"text-align: right;\">27.2   </td><td style=\"text-align: right;\">58.6   </td></tr>\n",
       "<tr><td>2022-04-14 02:01:36+00:00</td><td style=\"text-align: right;\">27.5714</td><td style=\"text-align: right;\">58.2857</td></tr>\n",
       "<tr><td>2022-04-14 02:00:35+00:00</td><td style=\"text-align: right;\">27.8889</td><td style=\"text-align: right;\">57.6667</td></tr>\n",
       "</tbody>\n",
       "</table>"
      ],
      "text/plain": [
       "<IPython.core.display.HTML object>"
      ]
     },
     "metadata": {},
     "output_type": "display_data"
    }
   ],
   "source": [
    "query = (\"\"\"\n",
    "    SELECT\n",
    "      *\n",
    "    FROM\n",
    "      `%s.%s.%s`\n",
    "    ORDER BY\n",
    "      timestamp DESC\n",
    "    LIMIT\n",
    "      5\n",
    "    \"\"\" %(project, dataset_name, avg_table_name))\n",
    "\n",
    "# Run the query on BigQuery\n",
    "query_job = client.query(\n",
    "    query,\n",
    "    # Location must match that of the dataset(s) referenced in the query.\n",
    "    location=location)  # API request - starts the query\n",
    "\n",
    "# Display the rows in a tabulated format\n",
    "rows = []\n",
    "for row in query_job:  # API request - fetches results\n",
    "    # Row values can be accessed by field name or index\n",
    "    r = [row.timestamp, row.temperature, row.humidity]\n",
    "    rows.append(r)\n",
    "    \n",
    "display(HTML(tabulate.tabulate(rows, tablefmt='html')))"
   ]
  },
  {
   "cell_type": "markdown",
   "metadata": {},
   "source": [
    "And the average table has 1 row per minute, showing the last 5 minutes' sliding window average values"
   ]
  },
  {
   "cell_type": "markdown",
   "metadata": {},
   "source": [
    "# Query: Average temperature values for the last 24 hours"
   ]
  },
  {
   "cell_type": "markdown",
   "metadata": {},
   "source": [
    "## Import maptplotlib graphing library and make a SQL query"
   ]
  },
  {
   "cell_type": "code",
   "execution_count": 13,
   "metadata": {},
   "outputs": [],
   "source": [
    "import matplotlib.pyplot as plt\n",
    "import warnings\n",
    "warnings.filterwarnings(\"ignore\")\n",
    "\n",
    "query = (\"\"\"\n",
    "SELECT\n",
    "  timestamp, temperature, humidity\n",
    "FROM\n",
    "  `%s.%s.%s`\n",
    "ORDER BY\n",
    "  timestamp DESC\n",
    "LIMIT\n",
    "  1440\n",
    "    \"\"\" %(project, dataset_name, avg_table_name))\n",
    "\n",
    "# Run query to fetch metrics from the average table\n",
    "query_job = client.query(query, location=location)\n",
    "\n",
    "datetimes = []\n",
    "temperature_avgs = []\n",
    "humidity_avgs = []\n",
    "\n",
    "for row in query_job:\n",
    "    datetimes.append(row['timestamp'])\n",
    "    temperature_avgs.append(row['temperature'])\n",
    "    humidity_avgs.append(row['humidity'])"
   ]
  },
  {
   "cell_type": "markdown",
   "metadata": {},
   "source": [
    "## Create a simple line chart to plot the average temperature values"
   ]
  },
  {
   "cell_type": "code",
   "execution_count": 14,
   "metadata": {},
   "outputs": [
    {
     "data": {
      "image/png": "[encoded data removed]",
      "text/plain": [
       "<matplotlib.figure.Figure at 0x7f0c9157fcf8>"
      ]
     },
     "metadata": {},
     "output_type": "display_data"
    }
   ],
   "source": [
    "# Create a line chart for temperature\n",
    "plt.subplot(2,1,1)\n",
    "plt.plot(datetimes, temperature_avgs)\n",
    "plt.gcf().autofmt_xdate()\n",
    "plt.xlabel('DateTime')\n",
    "plt.ylabel('Temperature Avg')\n",
    "\n",
    "# Create a line chart for pressure\n",
    "plt.subplot(2,1,2)\n",
    "plt.plot(datetimes, humidity_avgs)\n",
    "plt.gcf().autofmt_xdate()\n",
    "plt.xlabel('DateTime')\n",
    "plt.ylabel('Humidity Avg')\n",
    "\n",
    "plt.show()"
   ]
  },
  {
   "cell_type": "markdown",
   "metadata": {},
   "source": [
    "## Create a scatter chart to show the correlation between temperature and pressure values"
   ]
  },
  {
   "cell_type": "code",
   "execution_count": 15,
   "metadata": {},
   "outputs": [
    {
     "data": {
      "image/png": "[encoded data removed]",
      "text/plain": [
       "<matplotlib.figure.Figure at 0x7f0c915830f0>"
      ]
     },
     "metadata": {},
     "output_type": "display_data"
    }
   ],
   "source": [
    "plt.scatter(temperature_avgs, humidity_avgs)\n",
    "plt.show()"
   ]
  }
 ],
 "metadata": {
  "kernelspec": {
   "display_name": "Python 3",
   "language": "python",
   "name": "python3"
  },
  "language_info": {
   "codemirror_mode": {
    "name": "ipython",
    "version": 3
   },
   "file_extension": ".py",
   "mimetype": "text/x-python",
   "name": "python",
   "nbconvert_exporter": "python",
   "pygments_lexer": "ipython3",
   "version": "3.5.6"
  }
 },
 "nbformat": 4,
 "nbformat_minor": 2
}
